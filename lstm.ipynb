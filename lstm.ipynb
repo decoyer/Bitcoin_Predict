{
 "cells": [
  {
   "cell_type": "code",
   "execution_count": 1,
   "id": "77a15da5",
   "metadata": {},
   "outputs": [
    {
     "name": "stdout",
     "output_type": "stream",
     "text": [
      "              Close     Open     High      Low    Volume  Change\n",
      "Date                                                            \n",
      "2018-01-01  13444.9  13850.5  13921.5  12877.7   78430.0 -0.0293\n",
      "2018-01-02  14754.1  13444.9  15306.1  12934.2  137730.0  0.0974\n",
      "2018-01-03  15156.6  14754.1  15435.0  14579.7  106540.0  0.0273\n",
      "2018-01-04  15180.1  15156.5  15408.7  14244.7  110970.0  0.0015\n",
      "2018-01-05  16954.8  15180.1  17126.9  14832.4  141960.0  0.1169\n",
      "...             ...      ...      ...      ...       ...     ...\n",
      "2021-11-07  63273.2  61483.8  63273.2  61347.2   34340.0  0.0291\n",
      "2021-11-08  67527.9  63276.4  67763.3  63276.4   81080.0  0.0672\n",
      "2021-11-09  66904.4  67528.7  68493.3  66334.9   66130.0 -0.0092\n",
      "2021-11-10  64932.6  66942.6  68990.6  62951.3   96210.0 -0.0295\n",
      "2021-11-11  64775.1  64922.8  65583.3  64121.9   91850.0 -0.0024\n",
      "\n",
      "[1411 rows x 6 columns]\n"
     ]
    }
   ],
   "source": [
    "import FinanceDataReader as fdr\n",
    "import numpy as np\n",
    "import matplotlib.pyplot as plt\n",
    "import pandas as pd\n",
    "\n",
    "btc = fdr.DataReader('btc/usd', '2018')\n",
    "print(btc)"
   ]
  },
  {
   "cell_type": "code",
   "execution_count": 2,
   "id": "b77e4293",
   "metadata": {},
   "outputs": [],
   "source": [
    "from sklearn.preprocessing import MinMaxScaler\n",
    "\n",
    "values = btc[['Close']]\n",
    "\n",
    "scaler = MinMaxScaler(feature_range = (0, 1))\n",
    "scaled = scaler.fit_transform(values)"
   ]
  },
  {
   "cell_type": "code",
   "execution_count": 3,
   "id": "66bbe102",
   "metadata": {},
   "outputs": [],
   "source": [
    "size = 200\n",
    "train = scaled[:-size]\n",
    "test = scaled[-size:]"
   ]
  },
  {
   "cell_type": "code",
   "execution_count": 4,
   "id": "6407b09c",
   "metadata": {},
   "outputs": [],
   "source": [
    "def sample(data, window):\n",
    "    train = []\n",
    "    target = []\n",
    "    for i in range(len(data)-window):\n",
    "        train.append(data[i:i+window])\n",
    "        target.append(data[i+window])\n",
    "    return np.array(train), np.array(target)\n",
    "\n",
    "X_train, y_train = sample(train, 30)"
   ]
  },
  {
   "cell_type": "code",
   "execution_count": 5,
   "id": "09f2df2b",
   "metadata": {},
   "outputs": [],
   "source": [
    "from tensorflow.keras.models import Sequential\n",
    "from tensorflow.keras.layers import Dense, LSTM\n",
    "\n",
    "model = Sequential()\n",
    "model.add(LSTM(16, \n",
    "               input_shape=(X_train.shape[1], 1),\n",
    "               activation='tanh',\n",
    "               return_sequences=False)\n",
    "         )\n",
    "model.add(Dense(1))"
   ]
  },
  {
   "cell_type": "code",
   "execution_count": 6,
   "id": "8ff2703d",
   "metadata": {
    "scrolled": true
   },
   "outputs": [
    {
     "name": "stdout",
     "output_type": "stream",
     "text": [
      "Epoch 1/100\n",
      "74/74 [==============================] - 2s 9ms/step - loss: 0.0085\n",
      "Epoch 2/100\n",
      "74/74 [==============================] - 1s 9ms/step - loss: 6.9403e-04\n",
      "Epoch 3/100\n",
      "74/74 [==============================] - 1s 8ms/step - loss: 6.2501e-04\n",
      "Epoch 4/100\n",
      "74/74 [==============================] - 1s 8ms/step - loss: 5.6232e-04\n",
      "Epoch 5/100\n",
      "74/74 [==============================] - 1s 9ms/step - loss: 5.6716e-04\n",
      "Epoch 6/100\n",
      "74/74 [==============================] - 1s 9ms/step - loss: 5.3940e-04\n",
      "Epoch 7/100\n",
      "74/74 [==============================] - 1s 9ms/step - loss: 5.2339e-04\n",
      "Epoch 8/100\n",
      "74/74 [==============================] - 1s 9ms/step - loss: 5.0280e-04\n",
      "Epoch 9/100\n",
      "74/74 [==============================] - 1s 9ms/step - loss: 4.8072e-04\n",
      "Epoch 10/100\n",
      "74/74 [==============================] - 1s 9ms/step - loss: 4.6938e-04\n",
      "Epoch 11/100\n",
      "74/74 [==============================] - 1s 9ms/step - loss: 4.3288e-04\n",
      "Epoch 12/100\n",
      "74/74 [==============================] - 1s 9ms/step - loss: 4.1160e-04\n",
      "Epoch 13/100\n",
      "74/74 [==============================] - 1s 9ms/step - loss: 4.0211e-04\n",
      "Epoch 14/100\n",
      "74/74 [==============================] - 1s 9ms/step - loss: 3.3900e-04\n",
      "Epoch 15/100\n",
      "74/74 [==============================] - 1s 9ms/step - loss: 3.9343e-04\n",
      "Epoch 16/100\n",
      "74/74 [==============================] - 1s 9ms/step - loss: 3.4633e-04\n",
      "Epoch 17/100\n",
      "74/74 [==============================] - 1s 9ms/step - loss: 3.2274e-04\n",
      "Epoch 18/100\n",
      "74/74 [==============================] - 1s 9ms/step - loss: 3.8047e-04\n",
      "Epoch 19/100\n",
      "74/74 [==============================] - 1s 9ms/step - loss: 3.2221e-04\n",
      "Epoch 20/100\n",
      "74/74 [==============================] - 1s 9ms/step - loss: 2.9849e-04\n",
      "Epoch 21/100\n",
      "74/74 [==============================] - 1s 9ms/step - loss: 2.9580e-04\n",
      "Epoch 22/100\n",
      "74/74 [==============================] - 1s 9ms/step - loss: 2.8073e-04A: 0s - loss: \n",
      "Epoch 23/100\n",
      "74/74 [==============================] - 1s 9ms/step - loss: 2.6190e-04\n",
      "Epoch 24/100\n",
      "74/74 [==============================] - 1s 9ms/step - loss: 2.7851e-04\n",
      "Epoch 25/100\n",
      "74/74 [==============================] - 1s 9ms/step - loss: 2.5357e-04\n",
      "Epoch 26/100\n",
      "74/74 [==============================] - 1s 9ms/step - loss: 3.0459e-04\n",
      "Epoch 27/100\n",
      "74/74 [==============================] - 1s 9ms/step - loss: 2.4057e-04\n",
      "Epoch 28/100\n",
      "74/74 [==============================] - 1s 9ms/step - loss: 2.7190e-04\n",
      "Epoch 29/100\n",
      "74/74 [==============================] - 1s 9ms/step - loss: 2.7252e-04\n",
      "Epoch 30/100\n",
      "74/74 [==============================] - 1s 9ms/step - loss: 2.1995e-04\n",
      "Epoch 31/100\n",
      "74/74 [==============================] - 1s 9ms/step - loss: 2.4333e-04\n",
      "Epoch 32/100\n",
      "74/74 [==============================] - 1s 9ms/step - loss: 2.2978e-04\n",
      "Epoch 33/100\n",
      "74/74 [==============================] - 1s 9ms/step - loss: 2.3220e-04\n",
      "Epoch 34/100\n",
      "74/74 [==============================] - 1s 9ms/step - loss: 2.2315e-04\n",
      "Epoch 35/100\n",
      "74/74 [==============================] - 1s 9ms/step - loss: 2.1987e-04\n",
      "Epoch 36/100\n",
      "74/74 [==============================] - 1s 9ms/step - loss: 2.0794e-04\n",
      "Epoch 37/100\n",
      "74/74 [==============================] - 1s 9ms/step - loss: 2.0607e-04\n",
      "Epoch 38/100\n",
      "74/74 [==============================] - 1s 9ms/step - loss: 2.2640e-04\n",
      "Epoch 39/100\n",
      "74/74 [==============================] - 1s 9ms/step - loss: 2.3826e-04\n",
      "Epoch 40/100\n",
      "74/74 [==============================] - 1s 9ms/step - loss: 2.1184e-04\n",
      "Epoch 41/100\n",
      "74/74 [==============================] - 1s 9ms/step - loss: 2.0512e-04\n",
      "Epoch 42/100\n",
      "74/74 [==============================] - 1s 9ms/step - loss: 2.0866e-04\n",
      "Epoch 43/100\n",
      "74/74 [==============================] - 1s 9ms/step - loss: 1.9588e-04\n",
      "Epoch 44/100\n",
      "74/74 [==============================] - 1s 9ms/step - loss: 2.2462e-04\n",
      "Epoch 45/100\n",
      "74/74 [==============================] - 1s 9ms/step - loss: 1.9815e-04\n",
      "Epoch 46/100\n",
      "74/74 [==============================] - 1s 9ms/step - loss: 2.0358e-04\n",
      "Epoch 47/100\n",
      "74/74 [==============================] - 1s 9ms/step - loss: 1.8758e-04\n",
      "Epoch 48/100\n",
      "74/74 [==============================] - 1s 9ms/step - loss: 2.0730e-04\n",
      "Epoch 49/100\n",
      "74/74 [==============================] - 1s 9ms/step - loss: 2.0882e-04\n",
      "Epoch 50/100\n",
      "74/74 [==============================] - 1s 9ms/step - loss: 1.9073e-04\n",
      "Epoch 51/100\n",
      "74/74 [==============================] - 1s 9ms/step - loss: 1.8284e-04\n",
      "Epoch 52/100\n",
      "74/74 [==============================] - 1s 9ms/step - loss: 1.8908e-04\n",
      "Epoch 53/100\n",
      "74/74 [==============================] - 1s 9ms/step - loss: 2.0704e-04\n",
      "Epoch 54/100\n",
      "74/74 [==============================] - 1s 11ms/step - loss: 1.9192e-04\n",
      "Epoch 55/100\n",
      "74/74 [==============================] - 1s 10ms/step - loss: 1.9175e-04\n",
      "Epoch 56/100\n",
      "74/74 [==============================] - 1s 9ms/step - loss: 1.9766e-04\n",
      "Epoch 57/100\n",
      "74/74 [==============================] - 1s 8ms/step - loss: 1.8309e-04\n",
      "Epoch 58/100\n",
      "74/74 [==============================] - 1s 9ms/step - loss: 1.7981e-04\n",
      "Epoch 59/100\n",
      "74/74 [==============================] - 1s 8ms/step - loss: 2.0279e-04\n",
      "Epoch 60/100\n",
      "74/74 [==============================] - 1s 8ms/step - loss: 1.7530e-04\n",
      "Epoch 61/100\n",
      "74/74 [==============================] - 1s 9ms/step - loss: 1.6906e-04\n",
      "Epoch 62/100\n",
      "74/74 [==============================] - 1s 9ms/step - loss: 1.7191e-04\n",
      "Epoch 63/100\n",
      "74/74 [==============================] - 1s 8ms/step - loss: 1.7286e-04\n",
      "Epoch 64/100\n",
      "74/74 [==============================] - 1s 8ms/step - loss: 1.8261e-04\n",
      "Epoch 65/100\n",
      "74/74 [==============================] - 1s 8ms/step - loss: 2.0811e-04\n",
      "Epoch 66/100\n",
      "74/74 [==============================] - 1s 9ms/step - loss: 1.7963e-04\n",
      "Epoch 67/100\n",
      "74/74 [==============================] - 1s 9ms/step - loss: 1.8956e-04\n",
      "Epoch 68/100\n",
      "74/74 [==============================] - 1s 9ms/step - loss: 1.6870e-04\n",
      "Epoch 69/100\n",
      "74/74 [==============================] - 1s 9ms/step - loss: 1.6932e-04\n",
      "Epoch 70/100\n",
      "74/74 [==============================] - 1s 9ms/step - loss: 2.0089e-04\n",
      "Epoch 71/100\n",
      "74/74 [==============================] - 1s 9ms/step - loss: 1.9166e-04\n",
      "Epoch 72/100\n",
      "74/74 [==============================] - 1s 10ms/step - loss: 1.7187e-04\n",
      "Epoch 73/100\n",
      "74/74 [==============================] - 1s 9ms/step - loss: 1.4982e-04\n",
      "Epoch 74/100\n",
      "74/74 [==============================] - 1s 9ms/step - loss: 1.5882e-04\n",
      "Epoch 75/100\n",
      "74/74 [==============================] - 1s 8ms/step - loss: 1.7832e-04\n",
      "Epoch 76/100\n",
      "74/74 [==============================] - 1s 9ms/step - loss: 1.6509e-04\n",
      "Epoch 77/100\n",
      "74/74 [==============================] - 1s 9ms/step - loss: 1.7643e-04\n",
      "Epoch 78/100\n",
      "74/74 [==============================] - 1s 10ms/step - loss: 1.4558e-04\n",
      "Epoch 79/100\n",
      "74/74 [==============================] - 1s 8ms/step - loss: 1.5542e-04\n",
      "Epoch 80/100\n",
      "74/74 [==============================] - 1s 9ms/step - loss: 1.5476e-04\n",
      "Epoch 81/100\n",
      "74/74 [==============================] - 1s 9ms/step - loss: 1.7450e-04\n",
      "Epoch 82/100\n",
      "74/74 [==============================] - 1s 8ms/step - loss: 1.4997e-04\n",
      "Epoch 83/100\n",
      "74/74 [==============================] - 1s 9ms/step - loss: 1.5265e-04\n",
      "Epoch 84/100\n",
      "74/74 [==============================] - 1s 9ms/step - loss: 1.4760e-04\n",
      "Epoch 85/100\n",
      "74/74 [==============================] - 1s 9ms/step - loss: 1.4397e-04\n",
      "Epoch 86/100\n",
      "74/74 [==============================] - 1s 11ms/step - loss: 1.5323e-04\n",
      "Epoch 87/100\n",
      "74/74 [==============================] - 1s 9ms/step - loss: 1.5206e-04\n",
      "Epoch 88/100\n",
      "74/74 [==============================] - 1s 9ms/step - loss: 1.4559e-04\n",
      "Epoch 89/100\n",
      "74/74 [==============================] - 1s 8ms/step - loss: 1.4134e-04\n",
      "Epoch 90/100\n",
      "74/74 [==============================] - 1s 8ms/step - loss: 1.5257e-04\n",
      "Epoch 91/100\n",
      "74/74 [==============================] - 1s 9ms/step - loss: 1.7710e-04\n",
      "Epoch 92/100\n",
      "74/74 [==============================] - 1s 9ms/step - loss: 1.5128e-04\n",
      "Epoch 93/100\n",
      "74/74 [==============================] - 1s 9ms/step - loss: 1.5446e-04A: 0s - loss:\n",
      "Epoch 94/100\n",
      "74/74 [==============================] - 1s 9ms/step - loss: 1.3648e-04\n",
      "Epoch 95/100\n",
      "74/74 [==============================] - 1s 10ms/step - loss: 1.5531e-04\n",
      "Epoch 96/100\n",
      "74/74 [==============================] - 1s 10ms/step - loss: 1.5660e-04\n",
      "Epoch 97/100\n"
     ]
    },
    {
     "name": "stdout",
     "output_type": "stream",
     "text": [
      "74/74 [==============================] - 1s 9ms/step - loss: 1.4184e-04\n",
      "Epoch 98/100\n",
      "74/74 [==============================] - 1s 10ms/step - loss: 1.4950e-04\n",
      "Epoch 99/100\n",
      "74/74 [==============================] - 1s 8ms/step - loss: 1.4425e-04\n",
      "Epoch 100/100\n",
      "74/74 [==============================] - 1s 9ms/step - loss: 1.3876e-04\n"
     ]
    },
    {
     "data": {
      "text/plain": [
       "<keras.callbacks.History at 0x244e3ae56a0>"
      ]
     },
     "execution_count": 6,
     "metadata": {},
     "output_type": "execute_result"
    }
   ],
   "source": [
    "model.compile(optimizer = 'adam', loss = 'mean_squared_error')\n",
    "model.fit(X_train, y_train, epochs=100, batch_size = 16)"
   ]
  },
  {
   "cell_type": "code",
   "execution_count": 7,
   "id": "1d2cd503",
   "metadata": {},
   "outputs": [],
   "source": [
    "X_test, y_test = sample(test, 30)\n",
    "pred = model.predict(X_test)"
   ]
  },
  {
   "cell_type": "code",
   "execution_count": 8,
   "id": "2f2409d8",
   "metadata": {},
   "outputs": [
    {
     "data": {
      "image/png": "[encoded data removed]",
      "text/plain": [
       "<Figure size 864x648 with 1 Axes>"
      ]
     },
     "metadata": {
      "needs_background": "light"
     },
     "output_type": "display_data"
    }
   ],
   "source": [
    "plt.figure(figsize=(12, 9))\n",
    "plt.plot(y_test, label='Price', color='gray')\n",
    "plt.plot(pred, label='Predicted Price', color='crimson')\n",
    "plt.legend()\n",
    "plt.show()"
   ]
  },
  {
   "cell_type": "code",
   "execution_count": null,
   "id": "3468ffb4",
   "metadata": {},
   "outputs": [],
   "source": []
  }
 ],
 "metadata": {
  "kernelspec": {
   "display_name": "Python 3 (ipykernel)",
   "language": "python",
   "name": "python3"
  },
  "language_info": {
   "codemirror_mode": {
    "name": "ipython",
    "version": 3
   },
   "file_extension": ".py",
   "mimetype": "text/x-python",
   "name": "python",
   "nbconvert_exporter": "python",
   "pygments_lexer": "ipython3",
   "version": "3.8.8"
  }
 },
 "nbformat": 4,
 "nbformat_minor": 5
}
